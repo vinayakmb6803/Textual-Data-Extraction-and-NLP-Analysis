{
 "cells": [
  {
   "cell_type": "code",
   "execution_count": 10,
   "id": "9ad89a24",
   "metadata": {},
   "outputs": [
    {
     "name": "stdout",
     "output_type": "stream",
     "text": [
      "Requirement already satisfied: beautifulsoup4 in c:\\users\\vinayakb\\appdata\\local\\anaconda3\\lib\\site-packages (4.12.2)\n",
      "Requirement already satisfied: soupsieve>1.2 in c:\\users\\vinayakb\\appdata\\local\\anaconda3\\lib\\site-packages (from beautifulsoup4) (2.4)\n",
      "Requirement already satisfied: nltk in c:\\users\\vinayakb\\appdata\\local\\anaconda3\\lib\\site-packages (3.8.1)\n",
      "Requirement already satisfied: click in c:\\users\\vinayakb\\appdata\\local\\anaconda3\\lib\\site-packages (from nltk) (8.0.4)\n",
      "Requirement already satisfied: joblib in c:\\users\\vinayakb\\appdata\\local\\anaconda3\\lib\\site-packages (from nltk) (1.3.2)\n",
      "Requirement already satisfied: regex>=2021.8.3 in c:\\users\\vinayakb\\appdata\\local\\anaconda3\\lib\\site-packages (from nltk) (2022.7.9)\n",
      "Requirement already satisfied: tqdm in c:\\users\\vinayakb\\appdata\\local\\anaconda3\\lib\\site-packages (from nltk) (4.65.0)\n",
      "Requirement already satisfied: colorama in c:\\users\\vinayakb\\appdata\\local\\anaconda3\\lib\\site-packages (from click->nltk) (0.4.6)\n"
     ]
    }
   ],
   "source": [
    "!pip install beautifulsoup4\n",
    "!pip install nltk"
   ]
  },
  {
   "cell_type": "code",
   "execution_count": 4,
   "id": "cd79f3a1",
   "metadata": {},
   "outputs": [
    {
     "name": "stdout",
     "output_type": "stream",
     "text": [
      "Requirement already satisfied: beautifulsoup4 in c:\\users\\vinayakb\\appdata\\local\\anaconda3\\lib\\site-packages (4.12.2)\n",
      "Requirement already satisfied: soupsieve>1.2 in c:\\users\\vinayakb\\appdata\\local\\anaconda3\\lib\\site-packages (from beautifulsoup4) (2.4)\n",
      "Requirement already satisfied: nltk in c:\\users\\vinayakb\\appdata\\local\\anaconda3\\lib\\site-packages (3.8.1)\n",
      "Requirement already satisfied: click in c:\\users\\vinayakb\\appdata\\local\\anaconda3\\lib\\site-packages (from nltk) (8.0.4)\n",
      "Requirement already satisfied: joblib in c:\\users\\vinayakb\\appdata\\local\\anaconda3\\lib\\site-packages (from nltk) (1.3.2)\n",
      "Requirement already satisfied: regex>=2021.8.3 in c:\\users\\vinayakb\\appdata\\local\\anaconda3\\lib\\site-packages (from nltk) (2022.7.9)\n",
      "Requirement already satisfied: tqdm in c:\\users\\vinayakb\\appdata\\local\\anaconda3\\lib\\site-packages (from nltk) (4.65.0)\n",
      "Requirement already satisfied: colorama in c:\\users\\vinayakb\\appdata\\local\\anaconda3\\lib\\site-packages (from click->nltk) (0.4.6)\n"
     ]
    }
   ],
   "source": [
    "import nltk\n",
    "nltk.download('stopwords')"
   ]
  },
  {
   "cell_type": "code",
   "execution_count": 18,
   "id": "2d8e7b69",
   "metadata": {},
   "outputs": [],
   "source": [
    "#Importing Required Libraries\n",
    "import requests\n",
    "import pandas as pd\n",
    "from bs4 import BeautifulSoup\n",
    "from nltk.tokenize import sent_tokenize, word_tokenize\n",
    "from nltk.corpus import stopwords\n",
    "from textblob import TextBlob"
   ]
  },
  {
   "cell_type": "code",
   "execution_count": 25,
   "id": "76fac410",
   "metadata": {},
   "outputs": [],
   "source": [
    "# Step 2: Define Function to Extract Text from URL\n",
    "def extract_text_from_url(url):\n",
    "    try:\n",
    "        # Sending HTTP request to fetch webpage content\n",
    "        response = requests.get(url)\n",
    "        # Parsing HTML content using BeautifulSoup\n",
    "        soup = BeautifulSoup(response.text, 'html.parser')\n",
    "        article_text = ''\n",
    "        # Extracting only article text from <p> tags\n",
    "        for paragraph in soup.find_all('p'):\n",
    "            article_text += paragraph.get_text() + '\\n'\n",
    "        return article_text\n",
    "    except Exception as e:\n",
    "        print(f\"Error extracting text from {url}: {e}\")\n",
    "        return None"
   ]
  },
  {
   "cell_type": "code",
   "execution_count": 26,
   "id": "6b8943db",
   "metadata": {},
   "outputs": [],
   "source": [
    "# Defining Function to Calculate Text Analysis Variables\n",
    "def calculate_text_variables(text):\n",
    "    # Tokenizing text into sentences and words\n",
    "    sentences = sent_tokenize(text)\n",
    "    words = word_tokenize(text)\n",
    "    # Calculating word count and sentence count\n",
    "    word_count = len(words)\n",
    "    sentence_count = len(sentences)\n",
    "    # Removing stopwords and counting complex words\n",
    "    stopwords_set = set(stopwords.words(\"english\"))\n",
    "    complex_words = [word for word in words if word.lower() not in stopwords_set and len(word) > 6]\n",
    "    complex_word_count = len(complex_words)\n",
    "    # Calculating average word length, sentence length, syllable count, and Fog index\n",
    "    avg_word_length = sum(len(word) for word in words) / word_count\n",
    "    avg_sentence_length = sum(len(word_tokenize(sentence)) for sentence in sentences) / sentence_count\n",
    "    syllable_count = sum([len(list(filter(lambda c: c.lower() in 'aeiouy', word))) for word in words])\n",
    "    fog_index = 0.4 * (avg_sentence_length + (100 * (complex_word_count / word_count)))\n",
    "    # Counting personal pronouns\n",
    "    personal_pronouns = ['i', 'me', 'my', 'mine', 'we', 'us', 'our', 'ours']\n",
    "    personal_pronoun_count = sum(1 for word in words if word.lower() in personal_pronouns)\n",
    "    # Performing sentiment analysis using TextBlob\n",
    "    blob = TextBlob(text)\n",
    "    polarity_score = blob.sentiment.polarity\n",
    "    subjectivity_score = blob.sentiment.subjectivity\n",
    "    positive_score = sum(1 for sentence in sentences if TextBlob(sentence).sentiment.polarity > 0)\n",
    "    negative_score = sum(1 for sentence in sentences if TextBlob(sentence).sentiment.polarity < 0)\n",
    "    # Returning computed variables\n",
    "    return (positive_score, negative_score, polarity_score, subjectivity_score,\n",
    "            avg_sentence_length, len(complex_words)/len(words)*100, fog_index,\n",
    "            word_count/sentence_count, complex_word_count, word_count, syllable_count/word_count,\n",
    "            personal_pronoun_count, avg_word_length)"
   ]
  },
  {
   "cell_type": "code",
   "execution_count": 21,
   "id": "95d19155",
   "metadata": {},
   "outputs": [],
   "source": [
    "input_data = pd.read_excel(\"Input.xlsx\")"
   ]
  },
  {
   "cell_type": "code",
   "execution_count": 28,
   "id": "3a0bcee8",
   "metadata": {},
   "outputs": [],
   "source": [
    "#  Extracting Text from URLs and Perform Text Analysis\n",
    "output_data = []\n",
    "for index, row in input_data.iterrows():\n",
    "    url_id = row['URL_ID']\n",
    "    url = row['URL']\n",
    "    # Extracting article text from URL\n",
    "    article_text = extract_text_from_url(url)\n",
    "    if article_text:\n",
    "        # Calculating text analysis variables\n",
    "        text_variables = calculate_text_variables(article_text)\n",
    "        output_data.append((url_id, *text_variables))"
   ]
  },
  {
   "cell_type": "code",
   "execution_count": 23,
   "id": "5d32550e",
   "metadata": {},
   "outputs": [],
   "source": [
    "# Creating DataFrame for Output Data\n",
    "output_df = pd.DataFrame(output_data, columns=['URL_ID', 'POSITIVE SCORE', 'NEGATIVE SCORE', 'POLARITY SCORE', \n",
    "                                               'SUBJECTIVITY SCORE', 'AVG SENTENCE LENGTH', 'PERCENTAGE OF COMPLEX WORDS',\n",
    "                                               'FOG INDEX', 'AVG NUMBER OF WORDS PER SENTENCE', 'COMPLEX WORD COUNT',\n",
    "                                               'WORD COUNT', 'SYLLABLE PER WORD', 'PERSONAL PRONOUNS', 'AVG WORD LENGTH'])"
   ]
  },
  {
   "cell_type": "code",
   "execution_count": 24,
   "id": "25e86418",
   "metadata": {},
   "outputs": [],
   "source": [
    "# Writing Output DataFrame to Excel\n",
    "output_df.to_excel(\"Output.xlsx\", index=False)"
   ]
  }
 ],
 "metadata": {
  "kernelspec": {
   "display_name": "Python 3 (ipykernel)",
   "language": "python",
   "name": "python3"
  },
  "language_info": {
   "codemirror_mode": {
    "name": "ipython",
    "version": 3
   },
   "file_extension": ".py",
   "mimetype": "text/x-python",
   "name": "python",
   "nbconvert_exporter": "python",
   "pygments_lexer": "ipython3",
   "version": "3.11.5"
  }
 },
 "nbformat": 4,
 "nbformat_minor": 5
}
